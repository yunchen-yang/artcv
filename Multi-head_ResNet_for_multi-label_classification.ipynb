{
 "cells": [
  {
   "cell_type": "markdown",
   "metadata": {},
   "source": [
    "## 1. Dataset Visualization\n",
    "### 1) Goal\n",
    "Before constructing the classification model, let's visualize the dataset and define the task in the first place. <br>\n",
    "<b>Step 1:</b> Load and check the labels and training data."
   ]
  },
  {
   "cell_type": "code",
   "execution_count": 24,
   "metadata": {},
   "outputs": [],
   "source": [
    "import numpy as np\n",
    "import pandas as pd\n",
    "import sys\n",
    "\n",
    "root_path = f'{sys.path[0]}/'\n",
    "labels = pd.read_csv(root_path+'labels.csv')\n",
    "data = pd.read_csv(root_path+'train.csv')"
   ]
  },
  {
   "cell_type": "code",
   "execution_count": 25,
   "metadata": {
    "_cell_guid": "b1076dfc-b9ad-4769-8c92-a6c4dae69d19",
    "_uuid": "8f2839f25d086af736a60e9eeb907d3b93b6e0e5"
   },
   "outputs": [
    {
     "data": {
      "text/html": [
       "<div>\n",
       "<style scoped>\n",
       "    .dataframe tbody tr th:only-of-type {\n",
       "        vertical-align: middle;\n",
       "    }\n",
       "\n",
       "    .dataframe tbody tr th {\n",
       "        vertical-align: top;\n",
       "    }\n",
       "\n",
       "    .dataframe thead th {\n",
       "        text-align: right;\n",
       "    }\n",
       "</style>\n",
       "<table border=\"1\" class=\"dataframe\">\n",
       "  <thead>\n",
       "    <tr style=\"text-align: right;\">\n",
       "      <th></th>\n",
       "      <th>attribute_id</th>\n",
       "      <th>attribute_name</th>\n",
       "    </tr>\n",
       "  </thead>\n",
       "  <tbody>\n",
       "    <tr>\n",
       "      <th>0</th>\n",
       "      <td>0</td>\n",
       "      <td>country::afghanistan</td>\n",
       "    </tr>\n",
       "    <tr>\n",
       "      <th>1</th>\n",
       "      <td>1</td>\n",
       "      <td>country::alamania</td>\n",
       "    </tr>\n",
       "    <tr>\n",
       "      <th>2</th>\n",
       "      <td>2</td>\n",
       "      <td>country::algeria</td>\n",
       "    </tr>\n",
       "    <tr>\n",
       "      <th>3</th>\n",
       "      <td>3</td>\n",
       "      <td>country::arabia</td>\n",
       "    </tr>\n",
       "    <tr>\n",
       "      <th>4</th>\n",
       "      <td>4</td>\n",
       "      <td>country::armenia</td>\n",
       "    </tr>\n",
       "  </tbody>\n",
       "</table>\n",
       "</div>"
      ],
      "text/plain": [
       "   attribute_id        attribute_name\n",
       "0             0  country::afghanistan\n",
       "1             1     country::alamania\n",
       "2             2      country::algeria\n",
       "3             3       country::arabia\n",
       "4             4      country::armenia"
      ]
     },
     "execution_count": 25,
     "metadata": {},
     "output_type": "execute_result"
    }
   ],
   "source": [
    "labels.head()"
   ]
  },
  {
   "cell_type": "code",
   "execution_count": 26,
   "metadata": {
    "_cell_guid": "79c7e3d0-c299-4dcb-8224-4455121ee9b0",
    "_uuid": "d629ff2d2480ee46fbb7e2d37f6b5fab8052498a"
   },
   "outputs": [
    {
     "data": {
      "text/html": [
       "<div>\n",
       "<style scoped>\n",
       "    .dataframe tbody tr th:only-of-type {\n",
       "        vertical-align: middle;\n",
       "    }\n",
       "\n",
       "    .dataframe tbody tr th {\n",
       "        vertical-align: top;\n",
       "    }\n",
       "\n",
       "    .dataframe thead th {\n",
       "        text-align: right;\n",
       "    }\n",
       "</style>\n",
       "<table border=\"1\" class=\"dataframe\">\n",
       "  <thead>\n",
       "    <tr style=\"text-align: right;\">\n",
       "      <th></th>\n",
       "      <th>id</th>\n",
       "      <th>attribute_ids</th>\n",
       "    </tr>\n",
       "  </thead>\n",
       "  <tbody>\n",
       "    <tr>\n",
       "      <th>0</th>\n",
       "      <td>000040d66f14ced4cdd18cd95d91800f</td>\n",
       "      <td>448 2429 782</td>\n",
       "    </tr>\n",
       "    <tr>\n",
       "      <th>1</th>\n",
       "      <td>0000ef13e37ef70412166725ec034a8a</td>\n",
       "      <td>2997 3231 2730 3294 3099 2017 784</td>\n",
       "    </tr>\n",
       "    <tr>\n",
       "      <th>2</th>\n",
       "      <td>0001eeb4a06e8daa7c6951bcd124c3c7</td>\n",
       "      <td>2436 1715 23</td>\n",
       "    </tr>\n",
       "    <tr>\n",
       "      <th>3</th>\n",
       "      <td>000226398d224de78b191e6db45fd94e</td>\n",
       "      <td>2997 3433 448 782</td>\n",
       "    </tr>\n",
       "    <tr>\n",
       "      <th>4</th>\n",
       "      <td>00029c3b0171158d63b1bbf803a7d750</td>\n",
       "      <td>3465 3322 3170 1553 781</td>\n",
       "    </tr>\n",
       "  </tbody>\n",
       "</table>\n",
       "</div>"
      ],
      "text/plain": [
       "                                 id                      attribute_ids\n",
       "0  000040d66f14ced4cdd18cd95d91800f                       448 2429 782\n",
       "1  0000ef13e37ef70412166725ec034a8a  2997 3231 2730 3294 3099 2017 784\n",
       "2  0001eeb4a06e8daa7c6951bcd124c3c7                       2436 1715 23\n",
       "3  000226398d224de78b191e6db45fd94e                  2997 3433 448 782\n",
       "4  00029c3b0171158d63b1bbf803a7d750            3465 3322 3170 1553 781"
      ]
     },
     "execution_count": 26,
     "metadata": {},
     "output_type": "execute_result"
    }
   ],
   "source": [
    "data.head()"
   ]
  },
  {
   "cell_type": "markdown",
   "metadata": {},
   "source": [
    "<b>Step 2:</b> Split the attribute names into catagories and types."
   ]
  },
  {
   "cell_type": "code",
   "execution_count": 27,
   "metadata": {},
   "outputs": [],
   "source": [
    "def _split_attr_names(attr_name_str):\n",
    "    return [item.strip() for item in attr_name_str.split('::')] \n",
    "\n",
    "def _split_labels(labels_dataframe):\n",
    "    split_labels_dict = dict(attribute_id=[], attr_tier1=[], attr_tier2=[])\n",
    "    for i in range(labels_dataframe.shape[0]):\n",
    "        tem = _split_attr_names(labels['attribute_name'][i])\n",
    "        split_labels_dict['attribute_id'].append(labels['attribute_id'][i])\n",
    "        split_labels_dict['attr_tier1'].append(tem[0])\n",
    "        split_labels_dict['attr_tier2'].append(tem[1]) \n",
    "    split_labels = pd.DataFrame(split_labels_dict, \n",
    "                                columns=['attribute_id', 'attr_tier1', 'attr_tier2'])\n",
    "    return split_labels"
   ]
  },
  {
   "cell_type": "code",
   "execution_count": 28,
   "metadata": {},
   "outputs": [
    {
     "data": {
      "text/html": [
       "<div>\n",
       "<style scoped>\n",
       "    .dataframe tbody tr th:only-of-type {\n",
       "        vertical-align: middle;\n",
       "    }\n",
       "\n",
       "    .dataframe tbody tr th {\n",
       "        vertical-align: top;\n",
       "    }\n",
       "\n",
       "    .dataframe thead th {\n",
       "        text-align: right;\n",
       "    }\n",
       "</style>\n",
       "<table border=\"1\" class=\"dataframe\">\n",
       "  <thead>\n",
       "    <tr style=\"text-align: right;\">\n",
       "      <th></th>\n",
       "      <th>attribute_id</th>\n",
       "      <th>attr_tier1</th>\n",
       "      <th>attr_tier2</th>\n",
       "    </tr>\n",
       "  </thead>\n",
       "  <tbody>\n",
       "    <tr>\n",
       "      <th>0</th>\n",
       "      <td>0</td>\n",
       "      <td>country</td>\n",
       "      <td>afghanistan</td>\n",
       "    </tr>\n",
       "    <tr>\n",
       "      <th>1</th>\n",
       "      <td>1</td>\n",
       "      <td>country</td>\n",
       "      <td>alamania</td>\n",
       "    </tr>\n",
       "    <tr>\n",
       "      <th>2</th>\n",
       "      <td>2</td>\n",
       "      <td>country</td>\n",
       "      <td>algeria</td>\n",
       "    </tr>\n",
       "    <tr>\n",
       "      <th>3</th>\n",
       "      <td>3</td>\n",
       "      <td>country</td>\n",
       "      <td>arabia</td>\n",
       "    </tr>\n",
       "    <tr>\n",
       "      <th>4</th>\n",
       "      <td>4</td>\n",
       "      <td>country</td>\n",
       "      <td>armenia</td>\n",
       "    </tr>\n",
       "  </tbody>\n",
       "</table>\n",
       "</div>"
      ],
      "text/plain": [
       "   attribute_id attr_tier1   attr_tier2\n",
       "0             0    country  afghanistan\n",
       "1             1    country     alamania\n",
       "2             2    country      algeria\n",
       "3             3    country       arabia\n",
       "4             4    country      armenia"
      ]
     },
     "execution_count": 28,
     "metadata": {},
     "output_type": "execute_result"
    }
   ],
   "source": [
    "split_labels = _split_labels(labels)\n",
    "split_labels.head()"
   ]
  },
  {
   "cell_type": "code",
   "execution_count": 29,
   "metadata": {},
   "outputs": [
    {
     "name": "stdout",
     "output_type": "stream",
     "text": [
      "5\n"
     ]
    }
   ],
   "source": [
    "catagories = sorted(list(set(list(split_labels['attr_tier1']))))\n",
    "print(len(catagories))"
   ]
  },
  {
   "cell_type": "code",
   "execution_count": 30,
   "metadata": {},
   "outputs": [
    {
     "name": "stdout",
     "output_type": "stream",
     "text": [
      "There are in total 5 catagories: country, culture, dimension, medium, tags.\n"
     ]
    }
   ],
   "source": [
    "print('There are in total 5 catagories: %s, %s, %s, %s, %s.'\n",
    "     %(catagories[0],\n",
    "       catagories[1],\n",
    "       catagories[2],\n",
    "       catagories[3],\n",
    "       catagories[4]))"
   ]
  },
  {
   "cell_type": "markdown",
   "metadata": {},
   "source": [
    "<b>Step 3:</b> Define the types of classification tasks."
   ]
  },
  {
   "cell_type": "code",
   "execution_count": 31,
   "metadata": {},
   "outputs": [
    {
     "name": "stdout",
     "output_type": "stream",
     "text": [
      "Catagory: country; minimum count of tagging per item: 0; maximum count of tagging per item: 3\n",
      "Catagory: culture; minimum count of tagging per item: 0; maximum count of tagging per item: 4\n",
      "Catagory: dimension; minimum count of tagging per item: 0; maximum count of tagging per item: 1\n",
      "Catagory: medium; minimum count of tagging per item: 0; maximum count of tagging per item: 17\n",
      "Catagory: tags; minimum count of tagging per item: 0; maximum count of tagging per item: 18\n"
     ]
    }
   ],
   "source": [
    "def label_indexer_coarse(labels_dataframe):\n",
    "    split_labels_dict = dict(attribute_id=[], attr_tier1=[], attr_tier2=[])\n",
    "    for i in range(labels_dataframe.shape[0]):\n",
    "        tem = [item.strip() for item in labels_dataframe['attribute_name'][i].split('::')] \n",
    "        split_labels_dict['attribute_id'].append(labels_dataframe['attribute_id'][i])\n",
    "        split_labels_dict['attr_tier1'].append(tem[0])\n",
    "        split_labels_dict['attr_tier2'].append(tem[1])\n",
    "        \n",
    "    split_labels = pd.DataFrame(split_labels_dict, \n",
    "                                columns=['attribute_id', 'attr_tier1', 'attr_tier2'])\n",
    "    \n",
    "    tier1 = dict()\n",
    "    tier2 = dict()\n",
    "    attr2indexing = dict()\n",
    "    indexing2attr = dict()\n",
    "    label_indexing_list = []\n",
    "    for i_1, item1 in enumerate(sorted(list(set(list(split_labels['attr_tier1']))))):\n",
    "        assert len(list(set(list(split_labels['attr_tier2'][split_labels['attr_tier1']==item1])))) \\\n",
    "        == len(list(split_labels['attr_tier2'][split_labels['attr_tier1']==item1]))\n",
    "        tier1[item1] = i_1\n",
    "        tier2[item1] = dict()\n",
    "        list_tem = list(split_labels['attr_tier2'][split_labels['attr_tier1']==item1])\n",
    "        for i_2, item2 in enumerate(list_tem):\n",
    "            tier2[item1][item2] = i_2 + 1\n",
    "    for idx in range(split_labels.shape[0]):\n",
    "        tier1_idx = tier1[split_labels['attr_tier1'][idx]]\n",
    "        tier2_idx = tier2[split_labels['attr_tier1'][idx]][split_labels['attr_tier2'][idx]]\n",
    "        label_indexing_list.append([tier1_idx, tier2_idx])\n",
    "        attr2indexing[split_labels['attribute_id'][idx]] = [tier1_idx, tier2_idx]\n",
    "        indexing2attr[str([tier1_idx, tier2_idx])] = split_labels['attribute_id'][idx]\n",
    "    labels_indexing_df = split_labels.copy()\n",
    "    labels_indexing_df['indexing'] = label_indexing_list\n",
    "    return labels_indexing_df, attr2indexing, indexing2attr\n",
    "labels_indexing_df, attr2indexing, indexing2attr = label_indexer_coarse(labels)\n",
    "\n",
    "count_array = np.zeros((data.shape[0], 6), dtype='int')\n",
    "for i, attr_ids in enumerate(data['attribute_ids']):\n",
    "    cata_indexing = [labels_indexing_df['indexing'][int(attr_id)][0] \n",
    "                     for attr_id in data['attribute_ids'][i].split()]\n",
    "    for i_ in range(count_array.shape[1]):\n",
    "        count_array[i, i_] = cata_indexing.count(i_)\n",
    "for i_tier1, tier1 in enumerate(sorted(list(set(list(split_labels['attr_tier1']))))):\n",
    "    print('Catagory: %s; minimum count of tagging per item: %s; maximum count of tagging per item: %s' \n",
    "          %(tier1, np.amin(count_array, axis=0)[i_tier1], np.amax(count_array, axis=0)[i_tier1]))"
   ]
  },
  {
   "cell_type": "code",
   "execution_count": 44,
   "metadata": {},
   "outputs": [],
   "source": [
    "label_count_array = np.zeros((len(labels['attribute_id'])), dtype='int')\n",
    "for i in range(len(data['attribute_ids'])):\n",
    "    for label in [int(attr_id) for attr_id in data['attribute_ids'][i].split()]:\n",
    "        label_count_array[label] += 1"
   ]
  },
  {
   "cell_type": "code",
   "execution_count": 51,
   "metadata": {
    "scrolled": true
   },
   "outputs": [
    {
     "data": {
      "text/plain": [
       "0.001796241178167592"
      ]
     },
     "execution_count": 51,
     "metadata": {},
     "output_type": "execute_result"
    }
   ],
   "source": [
    "np.mean(label_count_array[0: 100]/len(data))"
   ]
  },
  {
   "cell_type": "code",
   "execution_count": 53,
   "metadata": {},
   "outputs": [
    {
     "data": {
      "text/plain": [
       "0.0010461130487956674"
      ]
     },
     "execution_count": 53,
     "metadata": {},
     "output_type": "execute_result"
    }
   ],
   "source": [
    "np.mean(label_count_array[100: 781]/len(data))"
   ]
  },
  {
   "cell_type": "code",
   "execution_count": 54,
   "metadata": {},
   "outputs": [
    {
     "data": {
      "text/plain": [
       "0.0007177597060679196"
      ]
     },
     "execution_count": 54,
     "metadata": {},
     "output_type": "execute_result"
    }
   ],
   "source": [
    "np.mean(label_count_array[786: 2706]/len(data))"
   ]
  },
  {
   "cell_type": "code",
   "execution_count": 56,
   "metadata": {},
   "outputs": [
    {
     "data": {
      "text/plain": [
       "0.0018646437287296797"
      ]
     },
     "execution_count": 56,
     "metadata": {},
     "output_type": "execute_result"
    }
   ],
   "source": [
    "np.mean(label_count_array[2706: 3474]/len(data))"
   ]
  },
  {
   "cell_type": "code",
   "execution_count": 64,
   "metadata": {},
   "outputs": [
    {
     "data": {
      "text/plain": [
       "array([2.33763734e+00, 5.46611538e+03, 6.72211711e+00, 6.87495163e+00,\n",
       "       7.14848348e+00])"
      ]
     },
     "execution_count": 64,
     "metadata": {},
     "output_type": "execute_result"
    }
   ],
   "source": [
    "1/(np.array([1-np.sum(label_count_array[780: 785]/len(data)), label_count_array[780: 785][0]/len(data),\n",
    " label_count_array[780: 785][1]/len(data), label_count_array[780: 785][2]/len(data), \n",
    " label_count_array[780: 785][3]/len(data)]))"
   ]
  },
  {
   "cell_type": "code",
   "execution_count": 63,
   "metadata": {},
   "outputs": [
    {
     "data": {
      "text/plain": [
       "array([0.00018295, 0.14876266, 0.14545557, 0.13988981, 0.13792667])"
      ]
     },
     "execution_count": 63,
     "metadata": {},
     "output_type": "execute_result"
    }
   ],
   "source": [
    "label_count_array[780: 785]/len(data)"
   ]
  },
  {
   "cell_type": "markdown",
   "metadata": {},
   "source": [
    "Finally, let's check the minimum and maximum amount of attributes per item."
   ]
  },
  {
   "cell_type": "code",
   "execution_count": 14,
   "metadata": {},
   "outputs": [
    {
     "name": "stdout",
     "output_type": "stream",
     "text": [
      "The minimum amount of attributes of the images: 1\n",
      "The maximum amount of attributes of the images: 26\n"
     ]
    }
   ],
   "source": [
    "print('The minimum amount of attributes of the images: %s'\n",
    "      %min([len(data['attribute_ids'][i].split()) for i in range(len(data['attribute_ids']))]))\n",
    "print('The maximum amount of attributes of the images: %s'\n",
    "      %max([len(data['attribute_ids'][i].split()) for i in range(len(data['attribute_ids']))]))"
   ]
  },
  {
   "cell_type": "markdown",
   "metadata": {},
   "source": [
    "### 2) Tasks\n",
    "As the counting results shown, an object can only have one single label in catagory \"dimension\", but it may have multiple labels in another 4 catagories.<br>\n",
    "Hence, we define the classification task of catagory \"dimension\" as multi-class classification and the tasks of the other 4 catagories as multi-label classification. <br>\n",
    "We decided to train a multi-head CNN model to complete this task. An pretrained ResNet architecture will co-train with 5 classifier heads. The second classifier will perform the multi-class classification (In total 6 classes; 0 means no label being eligible). The other 4 classifiers will perform multi-label classification.  "
   ]
  },
  {
   "cell_type": "markdown",
   "metadata": {},
   "source": [
    "## 2. Model constructing and training\n",
    "let's start constructing the classification model.\n",
    "### 1) Library and codes\n",
    "The codes are also available on GitHub (https://github.com/yunchen-yang/artcv)."
   ]
  },
  {
   "cell_type": "markdown",
   "metadata": {},
   "source": [
    "### 2) Training"
   ]
  },
  {
   "cell_type": "code",
   "execution_count": 1,
   "metadata": {},
   "outputs": [
    {
     "data": {
      "text/plain": [
       "True"
      ]
     },
     "execution_count": 1,
     "metadata": {},
     "output_type": "execute_result"
    }
   ],
   "source": [
    "import numpy as np\n",
    "import matplotlib.pyplot as plt\n",
    "import torch\n",
    "import torch.nn.functional as F\n",
    "from artcv.model import ArtCV\n",
    "from artcv.trainer import Trainer\n",
    "from artcv.datatool import ImgDataset, TrainValSet\n",
    "import sys\n",
    "from artcv.utils import f2score, regularized_pred\n",
    "torch.cuda.is_available()"
   ]
  },
  {
   "cell_type": "code",
   "execution_count": 2,
   "metadata": {},
   "outputs": [],
   "source": [
    "_root_path = sys.path[0]\n",
    "path = f'{_root_path}/train'\n",
    "data_info_path = f'{_root_path}/train.csv'\n",
    "labels_info_path = f'{_root_path}/labels.csv'\n",
    "dataset = TrainValSet(train_val_split=0.9, path=path, data_info_path=data_info_path, \n",
    "                      labels_info_path=labels_info_path)"
   ]
  },
  {
   "cell_type": "code",
   "execution_count": 3,
   "metadata": {},
   "outputs": [],
   "source": [
    "tag='50'\n",
    "weight_path = f'{_root_path}/pretrained/resnet{tag}.pth'\n",
    "model = ArtCV(tag=tag, weight_path=weight_path, freeze_cnn=True, dropout_rate=0, \n",
    "              weights=(1, 1, 4, 1, 2), classifier_layers=(2, 2, 2, 2, 2),\n",
    "              focal_loss=True, alpha=(0.0018, 0.001, 0.0007, 0.0019), gamma=(2, 2, 2, 2),\n",
    "              alpha_mc=(0.25, 1, 0.75, 0.75, 0.75, 0.75), gamma_mc=2, alpha_t=True)\n",
    "\n",
    "# file_name = 'frozen_focal_loss_resnet50_2layer_equal_weights_50epochs_reduced_lr.model.pkl'\n",
    "# save_path = f'{_root_path}/weights/{file_name}'\n",
    "# model.load_state_dict(torch.load(save_path))"
   ]
  },
  {
   "cell_type": "code",
   "execution_count": null,
   "metadata": {},
   "outputs": [],
   "source": []
  },
  {
   "cell_type": "code",
   "execution_count": null,
   "metadata": {},
   "outputs": [],
   "source": []
  },
  {
   "cell_type": "code",
   "execution_count": null,
   "metadata": {},
   "outputs": [],
   "source": []
  },
  {
   "cell_type": "code",
   "execution_count": 4,
   "metadata": {},
   "outputs": [],
   "source": [
    "trainer = Trainer(model, dataset, extra_epochs_mc=1, batch_size_train=512, batch_size_val=512, batch_size_all=128,\n",
    "                  epochs=15, compute_acc=False, head_log=True,\n",
    "                  monitor_frequency=False,\n",
    "                  dataloader_train_kwargs={'num_workers':4}, dataloader_val_kwargs={'num_workers':4},\n",
    "                  dataloader_all_kwargs={'num_workers':4})"
   ]
  },
  {
   "cell_type": "code",
   "execution_count": 5,
   "metadata": {},
   "outputs": [
    {
     "name": "stdout",
     "output_type": "stream",
     "text": [
      "Training progress: 100%|██████████| 15/15 [2:40:35<00:00, 642.37s/it] \n"
     ]
    }
   ],
   "source": [
    "trainer.train(lr=1e-1, mc_lr=2e-2, reduce_lr=True, reduce_lr_mc=True,\n",
    "              step=5, gamma=0.8, step_mc=5, gamma_mc=0.8)\n",
    "file_name = 'frozen_new_fl_exact_ratio2_resnet50_2layer_equal_weights_20_1_epochs_reduced_lr.model.pkl'\n",
    "save_path = f'{_root_path}/weights/{file_name}'\n",
    "torch.save(trainer.model.state_dict(), save_path)"
   ]
  },
  {
   "cell_type": "code",
   "execution_count": 6,
   "metadata": {},
   "outputs": [
    {
     "data": {
      "image/png": "[encoded data removed]",
      "text/plain": [
       "<Figure size 432x288 with 1 Axes>"
      ]
     },
     "metadata": {
      "needs_background": "light"
     },
     "output_type": "display_data"
    }
   ],
   "source": [
    "trainer.plot_running_loss()"
   ]
  },
  {
   "cell_type": "code",
   "execution_count": 7,
   "metadata": {},
   "outputs": [
    {
     "data": {
      "image/png": "[encoded data removed]",
      "text/plain": [
       "<Figure size 432x288 with 1 Axes>"
      ]
     },
     "metadata": {
      "needs_background": "light"
     },
     "output_type": "display_data"
    }
   ],
   "source": [
    "trainer.plot_head_loss()"
   ]
  },
  {
   "cell_type": "code",
   "execution_count": 8,
   "metadata": {},
   "outputs": [],
   "source": [
    "gt, probs = trainer.get_probs(tag='all')"
   ]
  },
  {
   "cell_type": "code",
   "execution_count": 9,
   "metadata": {},
   "outputs": [
    {
     "data": {
      "text/plain": [
       "0.3324518227805302"
      ]
     },
     "execution_count": 9,
     "metadata": {},
     "output_type": "execute_result"
    }
   ],
   "source": [
    "thre=(0.5, 0.5, 0.5, 0.5)\n",
    "f2score(gt, regularized_pred(probs, thre=thre), return_mean=True)"
   ]
  },
  {
   "cell_type": "code",
   "execution_count": 10,
   "metadata": {},
   "outputs": [
    {
     "data": {
      "text/plain": [
       "0.44841729848887807"
      ]
     },
     "execution_count": 10,
     "metadata": {},
     "output_type": "execute_result"
    }
   ],
   "source": [
    "thre=(0.9, 0.9, 0.9, 0.9)\n",
    "f2score(gt, regularized_pred(probs, thre=thre), return_mean=True)"
   ]
  },
  {
   "cell_type": "code",
   "execution_count": 11,
   "metadata": {},
   "outputs": [
    {
     "data": {
      "text/plain": [
       "0.4608302674935619"
      ]
     },
     "execution_count": 11,
     "metadata": {},
     "output_type": "execute_result"
    }
   ],
   "source": [
    "thre=(0.8, 0.8, 0.8, 0.8)\n",
    "f2score(gt, regularized_pred(probs, thre=thre), return_mean=True)"
   ]
  },
  {
   "cell_type": "code",
   "execution_count": 14,
   "metadata": {},
   "outputs": [
    {
     "name": "stderr",
     "output_type": "stream",
     "text": [
      "/opt/anaconda3/lib/python3.7/site-packages/sklearn/metrics/classification.py:1437: UndefinedMetricWarning: F-score is ill-defined and being set to 0.0 due to no predicted samples.\n",
      "  'precision', 'predicted', average, warn_for)\n"
     ]
    },
    {
     "data": {
      "text/plain": [
       "0.3579200298481132"
      ]
     },
     "execution_count": 14,
     "metadata": {},
     "output_type": "execute_result"
    }
   ],
   "source": [
    "from sklearn.metrics import fbeta_score\n",
    "def f2score(ground_truth, probs, thre, boundary=([0, 100], [100, 781], [786, 2706], [2706, 3474]), return_mean=True):\n",
    "    if type(thre) == float:\n",
    "        thre = (thre, thre, thre, thre)\n",
    "    predictions = np.zeros(probs.shape, dtype='int')\n",
    "    for i in range(len(boundary)):\n",
    "        predictions[:, boundary[i][0]: boundary[i][1]][\n",
    "            probs[:, boundary[i][0]: boundary[i][1]] > thre[i]] = 1\n",
    "    f_beta = [fbeta_score(ground_truth[i,:], predictions[i,:], beta=2) for i in range(ground_truth.shape[0])]\n",
    "    if return_mean:\n",
    "        return sum(f_beta)/len(f_beta)\n",
    "    else:\n",
    "        return f_beta\n",
    "\n",
    "f2score(gt, probs, thre=(0.9, 0.9, 0.9, 0.9))"
   ]
  },
  {
   "cell_type": "code",
   "execution_count": null,
   "metadata": {},
   "outputs": [],
   "source": []
  },
  {
   "cell_type": "code",
   "execution_count": null,
   "metadata": {},
   "outputs": [],
   "source": []
  },
  {
   "cell_type": "code",
   "execution_count": null,
   "metadata": {},
   "outputs": [],
   "source": []
  },
  {
   "cell_type": "code",
   "execution_count": 20,
   "metadata": {},
   "outputs": [
    {
     "data": {
      "text/plain": [
       "array([[6.1908159e-03, 1.1441378e-02, 1.9158361e-02, ..., 8.4098516e-04,\n",
       "        2.9733810e-03, 1.7787310e-03],\n",
       "       [1.7416494e-03, 6.0750140e-06, 3.0207517e-05, ..., 9.0526463e-03,\n",
       "        3.8493812e-01, 7.8663381e-04],\n",
       "       [5.7727783e-03, 1.3481751e-02, 1.2509735e-02, ..., 8.1814658e-03,\n",
       "        7.0264656e-03, 4.2591419e-02],\n",
       "       ...,\n",
       "       [2.3231241e-04, 7.4488147e-05, 1.3898127e-05, ..., 1.6275529e-02,\n",
       "        1.7138852e-02, 1.8623972e-02],\n",
       "       [1.1555501e-01, 2.7820518e-02, 3.2666940e-02, ..., 1.8926770e-03,\n",
       "        4.8998971e-03, 1.8937630e-03],\n",
       "       [3.7453692e-02, 4.6326901e-04, 8.6257246e-04, ..., 9.2822127e-04,\n",
       "        1.4013090e-02, 9.7395971e-02]], dtype=float32)"
      ]
     },
     "execution_count": 20,
     "metadata": {},
     "output_type": "execute_result"
    }
   ],
   "source": [
    "probs"
   ]
  },
  {
   "cell_type": "code",
   "execution_count": 40,
   "metadata": {},
   "outputs": [
    {
     "data": {
      "text/plain": [
       "array([ 448,  785, 2635, 3465])"
      ]
     },
     "execution_count": 40,
     "metadata": {},
     "output_type": "execute_result"
    }
   ],
   "source": [
    "np.where(probs[5, :]>0.9)[0]"
   ]
  },
  {
   "cell_type": "code",
   "execution_count": 41,
   "metadata": {},
   "outputs": [
    {
     "data": {
      "text/plain": [
       "array([ 448,  785, 2088, 2635, 2883, 3286, 3293, 3465])"
      ]
     },
     "execution_count": 41,
     "metadata": {},
     "output_type": "execute_result"
    }
   ],
   "source": [
    "np.where(gt[5, :]==1)[0]"
   ]
  },
  {
   "cell_type": "code",
   "execution_count": null,
   "metadata": {},
   "outputs": [],
   "source": []
  },
  {
   "cell_type": "code",
   "execution_count": 4,
   "metadata": {},
   "outputs": [],
   "source": [
    "# _root_path = sys.path[0]\n",
    "# path = f'{_root_path}/train'\n",
    "# test_path = f'{_root_path}/test'\n",
    "# data_info_path = f'{_root_path}/train.csv'\n",
    "# labels_info_path = f'{_root_path}/labels.csv'\n",
    "# dataset = TrainValSet(train_val_split=False, path=path, \n",
    "#                       data_info_path=data_info_path, labels_info_path=labels_info_path,\n",
    "#                       test_path=test_path)\n",
    "tag='50'\n",
    "weight_path = f'{_root_path}/pretrained/resnet{tag}.pth'\n",
    "model = ArtCV(tag=tag, weight_path=weight_path, freeze_cnn=4, dropout_rate=0, \n",
    "              weights=(1, 1, 1, 1, 1), classifier_layers=(2, 2, 2, 2, 2),\n",
    "              focal_loss=True, alpha=0.25, gamma=2)\n",
    "\n",
    "trainer = Trainer(model, dataset, batch_size_train=512, batch_size_val=512, batch_size_all=128,\n",
    "                  batch_size_test=64,\n",
    "                  epochs=15, compute_acc=False,\n",
    "                  monitor_frequency=3,\n",
    "                  dataloader_train_kwargs={'num_workers':2}, dataloader_val_kwargs={'num_workers':2},\n",
    "                  dataloader_all_kwargs={'num_workers':2})\n",
    "\n",
    "file_name = 'frozen_focal_loss_resnet50_2layer_equal_weights_50epochs_reduced_lr.model.pkl'\n",
    "save_path = f'{_root_path}/weights/{file_name}'\n",
    "model.load_state_dict(torch.load(save_path))"
   ]
  },
  {
   "cell_type": "code",
   "execution_count": 7,
   "metadata": {},
   "outputs": [],
   "source": [
    "gt, probs = trainer.get_probs(tag='all')"
   ]
  },
  {
   "cell_type": "code",
   "execution_count": null,
   "metadata": {},
   "outputs": [
    {
     "name": "stderr",
     "output_type": "stream",
     "text": [
      "/opt/anaconda3/lib/python3.7/site-packages/sklearn/metrics/classification.py:1437: UndefinedMetricWarning: F-score is ill-defined and being set to 0.0 due to no predicted samples.\n",
      "  'precision', 'predicted', average, warn_for)\n"
     ]
    }
   ],
   "source": [
    "from artcv.utils import f2score\n",
    "predictions = np.zeros(probs.shape, dtype='int')\n",
    "predictions[probs > 0.5] = 1\n",
    "f2score(gt, predictions)"
   ]
  },
  {
   "cell_type": "code",
   "execution_count": 19,
   "metadata": {},
   "outputs": [
    {
     "data": {
      "text/plain": [
       "0.43679737507162547"
      ]
     },
     "execution_count": 19,
     "metadata": {},
     "output_type": "execute_result"
    }
   ],
   "source": [
    "thre=(0.5, 0.5, 0.5, 0.5)\n",
    "f2score(gt, regularized_pred(probs, thre=thre), return_mean=True)"
   ]
  },
  {
   "cell_type": "code",
   "execution_count": 29,
   "metadata": {},
   "outputs": [
    {
     "data": {
      "image/png": "[encoded data removed]",
      "text/plain": [
       "<Figure size 432x288 with 1 Axes>"
      ]
     },
     "metadata": {
      "needs_background": "light"
     },
     "output_type": "display_data"
    },
    {
     "data": {
      "image/png": "[encoded data removed]",
      "text/plain": [
       "<Figure size 432x288 with 1 Axes>"
      ]
     },
     "metadata": {
      "needs_background": "light"
     },
     "output_type": "display_data"
    },
    {
     "data": {
      "image/png": "[encoded data removed]",
      "text/plain": [
       "<Figure size 432x288 with 1 Axes>"
      ]
     },
     "metadata": {
      "needs_background": "light"
     },
     "output_type": "display_data"
    },
    {
     "data": {
      "image/png": "[encoded data removed]",
      "text/plain": [
       "<Figure size 432x288 with 1 Axes>"
      ]
     },
     "metadata": {
      "needs_background": "light"
     },
     "output_type": "display_data"
    }
   ],
   "source": [
    "from sklearn.metrics import fbeta_score\n",
    "\n",
    "def f2score_single_thre(ground_truth, probs, thre, return_mean=True):\n",
    "    predictions = np.zeros(probs.shape, dtype='int')\n",
    "    predictions[probs > thre] = 1\n",
    "    f_beta = [fbeta_score(ground_truth[i,:], predictions[i,:], beta=2) for i in range(ground_truth.shape[0])]\n",
    "    if return_mean:\n",
    "        return sum(f_beta)/len(f_beta)\n",
    "    else:\n",
    "        return f_beta\n",
    "\n",
    "boundary = ([0, 100], [100, 781], [786, 2706], [2706, 3474])\n",
    "catagories = ('country', 'culture', 'medium', 'tags')\n",
    "fb = dict()\n",
    "for i, catagory in enumerate(catagories):\n",
    "    fb[catagory]=[]\n",
    "    for i_ in range(2, 20, 2):\n",
    "        thre = 0.01*i_\n",
    "        fb[catagory].append(f2score_single_thre(gt[:, boundary[i][0]: boundary[i][1]], probs[:, boundary[i][0]: boundary[i][1]], thre=thre))\n",
    "\n",
    "    len_ticks = len(fb[catagory])\n",
    "    x_axis = np.linspace(0.02, 0.2, len_ticks)\n",
    "    plt.figure()\n",
    "\n",
    "    plt.plot(x_axis, fb[catagory])\n",
    "    plt.title(\"Optimizing threshold to determine labels in catagory: '%s'\"\n",
    "             %catagory)\n",
    "    plt.xlabel('Threshold')\n",
    "    plt.ylabel('F2 Score')\n",
    "    plt.show()\n"
   ]
  },
  {
   "cell_type": "code",
   "execution_count": 30,
   "metadata": {},
   "outputs": [
    {
     "data": {
      "text/plain": [
       "0.5189223106200906"
      ]
     },
     "execution_count": 30,
     "metadata": {},
     "output_type": "execute_result"
    }
   ],
   "source": [
    "def f2score(ground_truth, probs, thre, boundary=([0, 100], [100, 781], [786, 2706], [2706, 3474]), return_mean=True):\n",
    "    if type(thre) == float:\n",
    "        thre = (thre, thre, thre, thre)\n",
    "    predictions = np.zeros(probs.shape, dtype='int')\n",
    "    for i in range(len(boundary)):\n",
    "        predictions[:, boundary[i][0]: boundary[i][1]][\n",
    "            probs[:, boundary[i][0]: boundary[i][1]] > thre[i]] = 1\n",
    "    f_beta = [fbeta_score(ground_truth[i,:], predictions[i,:], beta=2) for i in range(ground_truth.shape[0])]\n",
    "    if return_mean:\n",
    "        return sum(f_beta)/len(f_beta)\n",
    "    else:\n",
    "        return f_beta\n",
    "\n",
    "f2score(gt, probs, thre=(0.04, 0.06, 0.06, 0.06))"
   ]
  },
  {
   "cell_type": "code",
   "execution_count": 9,
   "metadata": {},
   "outputs": [
    {
     "data": {
      "text/plain": [
       "0.5693199511624866"
      ]
     },
     "execution_count": 9,
     "metadata": {},
     "output_type": "execute_result"
    }
   ],
   "source": [
    "thre=(0.04, 0.06, 0.06, 0.06)\n",
    "f2score(gt, regularized_pred(probs, thre=thre), return_mean=True)"
   ]
  },
  {
   "cell_type": "code",
   "execution_count": 10,
   "metadata": {},
   "outputs": [
    {
     "data": {
      "text/plain": [
       "0.5701082419552248"
      ]
     },
     "execution_count": 10,
     "metadata": {},
     "output_type": "execute_result"
    }
   ],
   "source": [
    "thre=(0.06, 0.06, 0.06, 0.06)\n",
    "f2score(gt, regularized_pred(probs, thre=thre), return_mean=True)"
   ]
  },
  {
   "cell_type": "code",
   "execution_count": 11,
   "metadata": {},
   "outputs": [
    {
     "data": {
      "text/plain": [
       "0.5729043735269962"
      ]
     },
     "execution_count": 11,
     "metadata": {},
     "output_type": "execute_result"
    }
   ],
   "source": [
    "thre=(0.08, 0.08, 0.08, 0.08)\n",
    "f2score(gt, regularized_pred(probs, thre=thre), return_mean=True)"
   ]
  },
  {
   "cell_type": "code",
   "execution_count": 12,
   "metadata": {},
   "outputs": [
    {
     "data": {
      "text/plain": [
       "0.5714427257164598"
      ]
     },
     "execution_count": 12,
     "metadata": {},
     "output_type": "execute_result"
    }
   ],
   "source": [
    "thre=(0.1, 0.1, 0.1, 0.1)\n",
    "f2score(gt, regularized_pred(probs, thre=thre), return_mean=True)"
   ]
  },
  {
   "cell_type": "code",
   "execution_count": null,
   "metadata": {},
   "outputs": [],
   "source": []
  },
  {
   "cell_type": "code",
   "execution_count": 15,
   "metadata": {},
   "outputs": [],
   "source": [
    "file_name_gt = 'frozen_resnet50_2layer_15epochs_reduced_lr_gt.npy'\n",
    "save_path_gt = f'{_root_path}/weights/{file_name_gt}'\n",
    "np.save(save_path_gt, gt)"
   ]
  },
  {
   "cell_type": "code",
   "execution_count": 16,
   "metadata": {},
   "outputs": [],
   "source": [
    "file_name_probs = 'frozen_resnet50_2layer_15epochs_reduced_lr_probs.npy'\n",
    "save_path_probs = f'{_root_path}/weights/{file_name_probs}'\n",
    "np.save(save_path_probs, probs)"
   ]
  },
  {
   "cell_type": "code",
   "execution_count": null,
   "metadata": {},
   "outputs": [],
   "source": []
  },
  {
   "cell_type": "code",
   "execution_count": 8,
   "metadata": {},
   "outputs": [
    {
     "data": {
      "text/plain": [
       "<All keys matched successfully>"
      ]
     },
     "execution_count": 8,
     "metadata": {},
     "output_type": "execute_result"
    }
   ],
   "source": [
    "_root_path = sys.path[0]\n",
    "path = f'{_root_path}/train'\n",
    "test_path = f'{_root_path}/test'\n",
    "data_info_path = f'{_root_path}/train.csv'\n",
    "labels_info_path = f'{_root_path}/labels.csv'\n",
    "dataset = TrainValSet(train_val_split=False, path=path, \n",
    "                      data_info_path=data_info_path, labels_info_path=labels_info_path,\n",
    "                      test_path=test_path)\n",
    "tag='50'\n",
    "weight_path = f'{_root_path}/pretrained/resnet{tag}.pth'\n",
    "model = ArtCV(tag=tag, weight_path=weight_path, freeze_cnn=True, dropout_rate=0, weights=(1, 1, 2, 1, 1), classifier_layers=(2, 2, 1, 2, 2))\n",
    "\n",
    "trainer = Trainer(model, dataset, batch_size_train=512, batch_size_val=512, batch_size_all=256,\n",
    "                  batch_size_test=256,\n",
    "                  epochs=15, compute_acc=False,\n",
    "                  monitor_frequency=3,\n",
    "                  dataloader_train_kwargs={'num_workers':2}, dataloader_val_kwargs={'num_workers':2},\n",
    "                  dataloader_all_kwargs={'num_workers':2})\n",
    "\n",
    "file_name = 'frozen_resnet50_2layer_15epochs_reduced_lr.model.pkl'\n",
    "save_path = f'{_root_path}/weights/{file_name}'\n",
    "model.load_state_dict(torch.load(save_path))"
   ]
  },
  {
   "cell_type": "code",
   "execution_count": 12,
   "metadata": {},
   "outputs": [
    {
     "data": {
      "text/plain": [
       "(array([783]),)"
      ]
     },
     "execution_count": 12,
     "metadata": {},
     "output_type": "execute_result"
    }
   ],
   "source": [
    "np.where(probs[34657,:]>0.06)"
   ]
  },
  {
   "cell_type": "code",
   "execution_count": 13,
   "metadata": {},
   "outputs": [
    {
     "data": {
      "text/plain": [
       "(array([2103, 2914, 2932, 3079, 3170, 3465]),)"
      ]
     },
     "execution_count": 13,
     "metadata": {},
     "output_type": "execute_result"
    }
   ],
   "source": [
    "np.where(gt[34657,:]==1)"
   ]
  },
  {
   "cell_type": "code",
   "execution_count": null,
   "metadata": {},
   "outputs": [],
   "source": []
  },
  {
   "cell_type": "code",
   "execution_count": null,
   "metadata": {},
   "outputs": [],
   "source": []
  },
  {
   "cell_type": "code",
   "execution_count": null,
   "metadata": {},
   "outputs": [],
   "source": []
  },
  {
   "cell_type": "code",
   "execution_count": null,
   "metadata": {},
   "outputs": [],
   "source": []
  }
 ],
 "metadata": {
  "kernelspec": {
   "display_name": "Python 3",
   "language": "python",
   "name": "python3"
  },
  "language_info": {
   "codemirror_mode": {
    "name": "ipython",
    "version": 3
   },
   "file_extension": ".py",
   "mimetype": "text/x-python",
   "name": "python",
   "nbconvert_exporter": "python",
   "pygments_lexer": "ipython3",
   "version": "3.7.4"
  }
 },
 "nbformat": 4,
 "nbformat_minor": 4
}
