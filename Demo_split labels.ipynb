{
 "cells": [
  {
   "cell_type": "code",
   "execution_count": 1,
   "metadata": {},
   "outputs": [],
   "source": [
    "import sys\n",
    "import numpy as np\n",
    "import pandas as pd"
   ]
  },
  {
   "cell_type": "code",
   "execution_count": 2,
   "metadata": {},
   "outputs": [],
   "source": [
    "path = sys.path[0]+'/'\n",
    "labels = pd.read_csv(path+'labels.csv')\n",
    "data = pd.read_csv(path+'train.csv')"
   ]
  },
  {
   "cell_type": "code",
   "execution_count": 12,
   "metadata": {},
   "outputs": [
    {
     "data": {
      "text/plain": [
       "0      0\n",
       "1      1\n",
       "2      2\n",
       "3      3\n",
       "4      4\n",
       "5      5\n",
       "6      6\n",
       "7      7\n",
       "8      8\n",
       "9      9\n",
       "10    10\n",
       "11    11\n",
       "Name: attribute_id, dtype: int64"
      ]
     },
     "execution_count": 12,
     "metadata": {},
     "output_type": "execute_result"
    }
   ],
   "source": [
    "labels['attribute_id'][[i for i in range(0,12)]]"
   ]
  },
  {
   "cell_type": "code",
   "execution_count": 13,
   "metadata": {},
   "outputs": [
    {
     "data": {
      "text/html": [
       "<div>\n",
       "<style scoped>\n",
       "    .dataframe tbody tr th:only-of-type {\n",
       "        vertical-align: middle;\n",
       "    }\n",
       "\n",
       "    .dataframe tbody tr th {\n",
       "        vertical-align: top;\n",
       "    }\n",
       "\n",
       "    .dataframe thead th {\n",
       "        text-align: right;\n",
       "    }\n",
       "</style>\n",
       "<table border=\"1\" class=\"dataframe\">\n",
       "  <thead>\n",
       "    <tr style=\"text-align: right;\">\n",
       "      <th></th>\n",
       "      <th>attribute_id</th>\n",
       "      <th>attribute_name</th>\n",
       "    </tr>\n",
       "  </thead>\n",
       "  <tbody>\n",
       "    <tr>\n",
       "      <th>0</th>\n",
       "      <td>0</td>\n",
       "      <td>country::afghanistan</td>\n",
       "    </tr>\n",
       "    <tr>\n",
       "      <th>1</th>\n",
       "      <td>1</td>\n",
       "      <td>country::alamania</td>\n",
       "    </tr>\n",
       "    <tr>\n",
       "      <th>2</th>\n",
       "      <td>2</td>\n",
       "      <td>country::algeria</td>\n",
       "    </tr>\n",
       "    <tr>\n",
       "      <th>3</th>\n",
       "      <td>3</td>\n",
       "      <td>country::arabia</td>\n",
       "    </tr>\n",
       "    <tr>\n",
       "      <th>4</th>\n",
       "      <td>4</td>\n",
       "      <td>country::armenia</td>\n",
       "    </tr>\n",
       "    <tr>\n",
       "      <th>...</th>\n",
       "      <td>...</td>\n",
       "      <td>...</td>\n",
       "    </tr>\n",
       "    <tr>\n",
       "      <th>3469</th>\n",
       "      <td>3469</td>\n",
       "      <td>tags::writing</td>\n",
       "    </tr>\n",
       "    <tr>\n",
       "      <th>3470</th>\n",
       "      <td>3470</td>\n",
       "      <td>tags::writing implements</td>\n",
       "    </tr>\n",
       "    <tr>\n",
       "      <th>3471</th>\n",
       "      <td>3471</td>\n",
       "      <td>tags::zebras</td>\n",
       "    </tr>\n",
       "    <tr>\n",
       "      <th>3472</th>\n",
       "      <td>3472</td>\n",
       "      <td>tags::zeus</td>\n",
       "    </tr>\n",
       "    <tr>\n",
       "      <th>3473</th>\n",
       "      <td>3473</td>\n",
       "      <td>tags::zodiac</td>\n",
       "    </tr>\n",
       "  </tbody>\n",
       "</table>\n",
       "<p>3474 rows × 2 columns</p>\n",
       "</div>"
      ],
      "text/plain": [
       "      attribute_id            attribute_name\n",
       "0                0      country::afghanistan\n",
       "1                1         country::alamania\n",
       "2                2          country::algeria\n",
       "3                3           country::arabia\n",
       "4                4          country::armenia\n",
       "...            ...                       ...\n",
       "3469          3469             tags::writing\n",
       "3470          3470  tags::writing implements\n",
       "3471          3471              tags::zebras\n",
       "3472          3472                tags::zeus\n",
       "3473          3473              tags::zodiac\n",
       "\n",
       "[3474 rows x 2 columns]"
      ]
     },
     "execution_count": 13,
     "metadata": {},
     "output_type": "execute_result"
    }
   ],
   "source": [
    "labels"
   ]
  },
  {
   "cell_type": "code",
   "execution_count": null,
   "metadata": {},
   "outputs": [],
   "source": []
  },
  {
   "cell_type": "code",
   "execution_count": null,
   "metadata": {},
   "outputs": [],
   "source": []
  },
  {
   "cell_type": "code",
   "execution_count": null,
   "metadata": {},
   "outputs": [],
   "source": []
  },
  {
   "cell_type": "code",
   "execution_count": null,
   "metadata": {},
   "outputs": [],
   "source": []
  },
  {
   "cell_type": "code",
   "execution_count": 15,
   "metadata": {},
   "outputs": [],
   "source": [
    "def label_indexer_fine(labels_dataframe):\n",
    "    split_labels_dict = dict(attribute_id=[], attr_tier1=[], attr_tier2=[], attr_tier3=[])\n",
    "    for i in range(labels_dataframe.shape[0]):\n",
    "        tem = [item.strip() for split_list in [item_.split(';') \n",
    "                                               for item_ in labels_dataframe['attribute_name'][i].split('::')] \n",
    "               for item in split_list]\n",
    "        split_labels_dict['attribute_id'].append(labels_dataframe['attribute_id'][i])\n",
    "        split_labels_dict['attr_tier1'].append(tem[0])\n",
    "        split_labels_dict['attr_tier2'].append(tem[1])\n",
    "        try:\n",
    "            split_labels_dict['attr_tier3'].append(tem[2])\n",
    "        except:\n",
    "            split_labels_dict['attr_tier3'].append('None')\n",
    "    split_labels = pd.DataFrame(split_labels_dict, \n",
    "                                columns=['attribute_id', 'attr_tier1', 'attr_tier2', 'attr_tier3'])\n",
    "    \n",
    "    tier1 = dict()\n",
    "    tier2 = dict()\n",
    "    counting_dict = dict()\n",
    "    attr2indexing = dict()\n",
    "    indexing2attr = dict()\n",
    "    label_indexing_list = []\n",
    "    for i_1, item1 in enumerate(sorted(list(set(list(split_labels['attr_tier1']))))):\n",
    "        tier1[item1] = i_1\n",
    "        tier2[item1] = dict()\n",
    "        list_tem = sorted(list(set(list(split_labels['attr_tier2'][split_labels['attr_tier1']==item1]))))\n",
    "        for i_2, item2 in enumerate(list_tem):\n",
    "            tier2[item1][item2] = i_2 + 1\n",
    "        counting_dict[item1] = np.ones(len(list_tem), dtype='int')\n",
    "    for idx in range(split_labels.shape[0]):\n",
    "        tier1_idx = tier1[split_labels['attr_tier1'][idx]]\n",
    "        tier2_idx = tier2[split_labels['attr_tier1'][idx]][split_labels['attr_tier2'][idx]]\n",
    "        tier3_idx = counting_dict[split_labels['attr_tier1'][idx]][tier2_idx-1]\n",
    "        counting_dict[split_labels['attr_tier1'][idx]][tier2_idx-1] += 1\n",
    "        label_indexing_list.append([tier1_idx, tier2_idx, tier3_idx])\n",
    "        attr2indexing[split_labels['attribute_id'][idx]] = [tier1_idx, tier2_idx, tier3_idx]\n",
    "        indexing2attr[str([tier1_idx, tier2_idx, tier3_idx])] = split_labels['attribute_id'][idx]\n",
    "    labels_indexing_df = split_labels.copy()\n",
    "    labels_indexing_df['indexing'] = label_indexing_list\n",
    "    return labels_indexing_df, attr2indexing, indexing2attr"
   ]
  },
  {
   "cell_type": "code",
   "execution_count": 10,
   "metadata": {},
   "outputs": [],
   "source": [
    "def label_indexer_coarse(labels_dataframe):\n",
    "    split_labels_dict = dict(attribute_id=[], attr_tier1=[], attr_tier2=[])\n",
    "    for i in range(labels_dataframe.shape[0]):\n",
    "        tem = [item.strip() for item in labels_dataframe['attribute_name'][i].split('::')] \n",
    "        split_labels_dict['attribute_id'].append(labels_dataframe['attribute_id'][i])\n",
    "        split_labels_dict['attr_tier1'].append(tem[0])\n",
    "        split_labels_dict['attr_tier2'].append(tem[1])\n",
    "        \n",
    "    split_labels = pd.DataFrame(split_labels_dict, \n",
    "                                columns=['attribute_id', 'attr_tier1', 'attr_tier2'])\n",
    "    \n",
    "    tier1 = dict()\n",
    "    tier2 = dict()\n",
    "    attr2indexing = dict()\n",
    "    indexing2attr = dict()\n",
    "    label_indexing_list = []\n",
    "    for i_1, item1 in enumerate(sorted(list(set(list(split_labels['attr_tier1']))))):\n",
    "        assert len(list(set(list(split_labels['attr_tier2'][split_labels['attr_tier1']==item1])))) \\\n",
    "        == len(list(split_labels['attr_tier2'][split_labels['attr_tier1']==item1]))\n",
    "        tier1[item1] = i_1\n",
    "        tier2[item1] = dict()\n",
    "        list_tem = list(split_labels['attr_tier2'][split_labels['attr_tier1']==item1])\n",
    "        for i_2, item2 in enumerate(list_tem):\n",
    "            tier2[item1][item2] = i_2 + 1\n",
    "    for idx in range(split_labels.shape[0]):\n",
    "        tier1_idx = tier1[split_labels['attr_tier1'][idx]]\n",
    "        tier2_idx = tier2[split_labels['attr_tier1'][idx]][split_labels['attr_tier2'][idx]]\n",
    "        label_indexing_list.append([tier1_idx, tier2_idx])\n",
    "        attr2indexing[split_labels['attribute_id'][idx]] = [tier1_idx, tier2_idx]\n",
    "        indexing2attr[str([tier1_idx, tier2_idx])] = split_labels['attribute_id'][idx]\n",
    "    labels_indexing_df = split_labels.copy()\n",
    "    labels_indexing_df['indexing'] = label_indexing_list\n",
    "    return labels_indexing_df, attr2indexing, indexing2attr"
   ]
  },
  {
   "cell_type": "code",
   "execution_count": 12,
   "metadata": {},
   "outputs": [],
   "source": [
    "labels_indexing_df, attr2indexing, indexing2attr = label_indexer_coarse(labels)"
   ]
  },
  {
   "cell_type": "code",
   "execution_count": 13,
   "metadata": {},
   "outputs": [
    {
     "data": {
      "text/html": [
       "<div>\n",
       "<style scoped>\n",
       "    .dataframe tbody tr th:only-of-type {\n",
       "        vertical-align: middle;\n",
       "    }\n",
       "\n",
       "    .dataframe tbody tr th {\n",
       "        vertical-align: top;\n",
       "    }\n",
       "\n",
       "    .dataframe thead th {\n",
       "        text-align: right;\n",
       "    }\n",
       "</style>\n",
       "<table border=\"1\" class=\"dataframe\">\n",
       "  <thead>\n",
       "    <tr style=\"text-align: right;\">\n",
       "      <th></th>\n",
       "      <th>attribute_id</th>\n",
       "      <th>attr_tier1</th>\n",
       "      <th>attr_tier2</th>\n",
       "      <th>indexing</th>\n",
       "    </tr>\n",
       "  </thead>\n",
       "  <tbody>\n",
       "    <tr>\n",
       "      <th>0</th>\n",
       "      <td>0</td>\n",
       "      <td>country</td>\n",
       "      <td>afghanistan</td>\n",
       "      <td>[0, 1]</td>\n",
       "    </tr>\n",
       "    <tr>\n",
       "      <th>1</th>\n",
       "      <td>1</td>\n",
       "      <td>country</td>\n",
       "      <td>alamania</td>\n",
       "      <td>[0, 2]</td>\n",
       "    </tr>\n",
       "    <tr>\n",
       "      <th>2</th>\n",
       "      <td>2</td>\n",
       "      <td>country</td>\n",
       "      <td>algeria</td>\n",
       "      <td>[0, 3]</td>\n",
       "    </tr>\n",
       "    <tr>\n",
       "      <th>3</th>\n",
       "      <td>3</td>\n",
       "      <td>country</td>\n",
       "      <td>arabia</td>\n",
       "      <td>[0, 4]</td>\n",
       "    </tr>\n",
       "    <tr>\n",
       "      <th>4</th>\n",
       "      <td>4</td>\n",
       "      <td>country</td>\n",
       "      <td>armenia</td>\n",
       "      <td>[0, 5]</td>\n",
       "    </tr>\n",
       "    <tr>\n",
       "      <th>...</th>\n",
       "      <td>...</td>\n",
       "      <td>...</td>\n",
       "      <td>...</td>\n",
       "      <td>...</td>\n",
       "    </tr>\n",
       "    <tr>\n",
       "      <th>3469</th>\n",
       "      <td>3469</td>\n",
       "      <td>tags</td>\n",
       "      <td>writing</td>\n",
       "      <td>[4, 764]</td>\n",
       "    </tr>\n",
       "    <tr>\n",
       "      <th>3470</th>\n",
       "      <td>3470</td>\n",
       "      <td>tags</td>\n",
       "      <td>writing implements</td>\n",
       "      <td>[4, 765]</td>\n",
       "    </tr>\n",
       "    <tr>\n",
       "      <th>3471</th>\n",
       "      <td>3471</td>\n",
       "      <td>tags</td>\n",
       "      <td>zebras</td>\n",
       "      <td>[4, 766]</td>\n",
       "    </tr>\n",
       "    <tr>\n",
       "      <th>3472</th>\n",
       "      <td>3472</td>\n",
       "      <td>tags</td>\n",
       "      <td>zeus</td>\n",
       "      <td>[4, 767]</td>\n",
       "    </tr>\n",
       "    <tr>\n",
       "      <th>3473</th>\n",
       "      <td>3473</td>\n",
       "      <td>tags</td>\n",
       "      <td>zodiac</td>\n",
       "      <td>[4, 768]</td>\n",
       "    </tr>\n",
       "  </tbody>\n",
       "</table>\n",
       "<p>3474 rows × 4 columns</p>\n",
       "</div>"
      ],
      "text/plain": [
       "      attribute_id attr_tier1          attr_tier2  indexing\n",
       "0                0    country         afghanistan    [0, 1]\n",
       "1                1    country            alamania    [0, 2]\n",
       "2                2    country             algeria    [0, 3]\n",
       "3                3    country              arabia    [0, 4]\n",
       "4                4    country             armenia    [0, 5]\n",
       "...            ...        ...                 ...       ...\n",
       "3469          3469       tags             writing  [4, 764]\n",
       "3470          3470       tags  writing implements  [4, 765]\n",
       "3471          3471       tags              zebras  [4, 766]\n",
       "3472          3472       tags                zeus  [4, 767]\n",
       "3473          3473       tags              zodiac  [4, 768]\n",
       "\n",
       "[3474 rows x 4 columns]"
      ]
     },
     "execution_count": 13,
     "metadata": {},
     "output_type": "execute_result"
    }
   ],
   "source": [
    "labels_indexing_df"
   ]
  },
  {
   "cell_type": "code",
   "execution_count": 16,
   "metadata": {},
   "outputs": [],
   "source": [
    "labels_indexing_df2, attr2indexing2, indexing2attr2 = label_indexer_fine(labels)"
   ]
  },
  {
   "cell_type": "code",
   "execution_count": 19,
   "metadata": {},
   "outputs": [
    {
     "data": {
      "text/plain": [
       "786        [3, 1]\n",
       "787        [3, 2]\n",
       "788        [3, 3]\n",
       "789        [3, 4]\n",
       "790        [3, 5]\n",
       "          ...    \n",
       "2701    [3, 1916]\n",
       "2702    [3, 1917]\n",
       "2703    [3, 1918]\n",
       "2704    [3, 1919]\n",
       "2705    [3, 1920]\n",
       "Name: indexing, Length: 1920, dtype: object"
      ]
     },
     "execution_count": 19,
     "metadata": {},
     "output_type": "execute_result"
    }
   ],
   "source": [
    "labels_indexing_df['indexing'][labels_indexing_df2['attr_tier1']=='medium']"
   ]
  },
  {
   "cell_type": "code",
   "execution_count": 21,
   "metadata": {},
   "outputs": [
    {
     "data": {
      "text/plain": [
       "[100, 681, 5, 1920, 768]"
      ]
     },
     "execution_count": 21,
     "metadata": {},
     "output_type": "execute_result"
    }
   ],
   "source": [
    "[len(labels_indexing_df['indexing'][labels_indexing_df['attr_tier1']==catagory]) \n",
    " for catagory in sorted(list(set(list(labels_indexing_df['attr_tier1']))))]"
   ]
  },
  {
   "cell_type": "code",
   "execution_count": 18,
   "metadata": {},
   "outputs": [
    {
     "data": {
      "text/plain": [
       "786        [3, 1, 1]\n",
       "787        [3, 2, 1]\n",
       "788        [3, 3, 1]\n",
       "789        [3, 4, 1]\n",
       "790        [3, 5, 1]\n",
       "            ...     \n",
       "2701    [3, 1803, 1]\n",
       "2702    [3, 1804, 1]\n",
       "2703    [3, 1805, 1]\n",
       "2704    [3, 1806, 1]\n",
       "2705    [3, 1807, 1]\n",
       "Name: indexing, Length: 1920, dtype: object"
      ]
     },
     "execution_count": 18,
     "metadata": {},
     "output_type": "execute_result"
    }
   ],
   "source": [
    "labels_indexing_df2['indexing'][labels_indexing_df2['attr_tier1']=='medium']"
   ]
  },
  {
   "cell_type": "code",
   "execution_count": 4,
   "metadata": {},
   "outputs": [],
   "source": [
    "def split_attr_names(attr_name_str):\n",
    "    return [item.strip() for split_list in [item_.split(';') \n",
    "                                            for item_ in attr_name_str.split('::')] \n",
    "            for item in split_list]"
   ]
  },
  {
   "cell_type": "code",
   "execution_count": 5,
   "metadata": {},
   "outputs": [],
   "source": [
    "def split_labels(labels_dataframe):\n",
    "    split_labels_dict = dict(attribute_id=[], attr_tier1=[], attr_tier2=[], attr_tier3=[])\n",
    "    for i in range(labels_dataframe.shape[0]):\n",
    "        tem = split_attr_names(labels['attribute_name'][i])\n",
    "        split_labels_dict['attribute_id'].append(labels['attribute_id'][i])\n",
    "        split_labels_dict['attr_tier1'].append(tem[0])\n",
    "        split_labels_dict['attr_tier2'].append(tem[1])\n",
    "        try:\n",
    "            split_labels_dict['attr_tier3'].append(tem[2])\n",
    "        except:\n",
    "            split_labels_dict['attr_tier3'].append('None')\n",
    "    split_labels = pd.DataFrame(split_labels_dict, \n",
    "                                columns=['attribute_id', 'attr_tier1', 'attr_tier2', 'attr_tier3'])\n",
    "    return split_labels"
   ]
  },
  {
   "cell_type": "code",
   "execution_count": 6,
   "metadata": {},
   "outputs": [],
   "source": [
    "split_labels = split_labels(labels)"
   ]
  },
  {
   "cell_type": "code",
   "execution_count": 7,
   "metadata": {},
   "outputs": [
    {
     "data": {
      "text/html": [
       "<div>\n",
       "<style scoped>\n",
       "    .dataframe tbody tr th:only-of-type {\n",
       "        vertical-align: middle;\n",
       "    }\n",
       "\n",
       "    .dataframe tbody tr th {\n",
       "        vertical-align: top;\n",
       "    }\n",
       "\n",
       "    .dataframe thead th {\n",
       "        text-align: right;\n",
       "    }\n",
       "</style>\n",
       "<table border=\"1\" class=\"dataframe\">\n",
       "  <thead>\n",
       "    <tr style=\"text-align: right;\">\n",
       "      <th></th>\n",
       "      <th>attribute_id</th>\n",
       "      <th>attr_tier1</th>\n",
       "      <th>attr_tier2</th>\n",
       "      <th>attr_tier3</th>\n",
       "    </tr>\n",
       "  </thead>\n",
       "  <tbody>\n",
       "    <tr>\n",
       "      <th>0</th>\n",
       "      <td>0</td>\n",
       "      <td>country</td>\n",
       "      <td>afghanistan</td>\n",
       "      <td>None</td>\n",
       "    </tr>\n",
       "    <tr>\n",
       "      <th>1</th>\n",
       "      <td>1</td>\n",
       "      <td>country</td>\n",
       "      <td>alamania</td>\n",
       "      <td>None</td>\n",
       "    </tr>\n",
       "    <tr>\n",
       "      <th>2</th>\n",
       "      <td>2</td>\n",
       "      <td>country</td>\n",
       "      <td>algeria</td>\n",
       "      <td>None</td>\n",
       "    </tr>\n",
       "    <tr>\n",
       "      <th>3</th>\n",
       "      <td>3</td>\n",
       "      <td>country</td>\n",
       "      <td>arabia</td>\n",
       "      <td>None</td>\n",
       "    </tr>\n",
       "    <tr>\n",
       "      <th>4</th>\n",
       "      <td>4</td>\n",
       "      <td>country</td>\n",
       "      <td>armenia</td>\n",
       "      <td>None</td>\n",
       "    </tr>\n",
       "    <tr>\n",
       "      <th>...</th>\n",
       "      <td>...</td>\n",
       "      <td>...</td>\n",
       "      <td>...</td>\n",
       "      <td>...</td>\n",
       "    </tr>\n",
       "    <tr>\n",
       "      <th>3469</th>\n",
       "      <td>3469</td>\n",
       "      <td>tags</td>\n",
       "      <td>writing</td>\n",
       "      <td>None</td>\n",
       "    </tr>\n",
       "    <tr>\n",
       "      <th>3470</th>\n",
       "      <td>3470</td>\n",
       "      <td>tags</td>\n",
       "      <td>writing implements</td>\n",
       "      <td>None</td>\n",
       "    </tr>\n",
       "    <tr>\n",
       "      <th>3471</th>\n",
       "      <td>3471</td>\n",
       "      <td>tags</td>\n",
       "      <td>zebras</td>\n",
       "      <td>None</td>\n",
       "    </tr>\n",
       "    <tr>\n",
       "      <th>3472</th>\n",
       "      <td>3472</td>\n",
       "      <td>tags</td>\n",
       "      <td>zeus</td>\n",
       "      <td>None</td>\n",
       "    </tr>\n",
       "    <tr>\n",
       "      <th>3473</th>\n",
       "      <td>3473</td>\n",
       "      <td>tags</td>\n",
       "      <td>zodiac</td>\n",
       "      <td>None</td>\n",
       "    </tr>\n",
       "  </tbody>\n",
       "</table>\n",
       "<p>3474 rows × 4 columns</p>\n",
       "</div>"
      ],
      "text/plain": [
       "      attribute_id attr_tier1          attr_tier2 attr_tier3\n",
       "0                0    country         afghanistan       None\n",
       "1                1    country            alamania       None\n",
       "2                2    country             algeria       None\n",
       "3                3    country              arabia       None\n",
       "4                4    country             armenia       None\n",
       "...            ...        ...                 ...        ...\n",
       "3469          3469       tags             writing       None\n",
       "3470          3470       tags  writing implements       None\n",
       "3471          3471       tags              zebras       None\n",
       "3472          3472       tags                zeus       None\n",
       "3473          3473       tags              zodiac       None\n",
       "\n",
       "[3474 rows x 4 columns]"
      ]
     },
     "execution_count": 7,
     "metadata": {},
     "output_type": "execute_result"
    }
   ],
   "source": [
    "split_labels"
   ]
  },
  {
   "cell_type": "code",
   "execution_count": 8,
   "metadata": {},
   "outputs": [],
   "source": [
    "def label_indexing(split_labels):\n",
    "    tier1 = dict()\n",
    "    tier2 = dict()\n",
    "    counting_dict = dict()\n",
    "    attr2indexing = dict()\n",
    "    indexing2attr = dict()\n",
    "    label_indexing_list = []\n",
    "    for i_1, item1 in enumerate(sorted(list(set(list(split_labels['attr_tier1']))))):\n",
    "        tier1[item1] = i_1\n",
    "        tier2[item1] = dict()\n",
    "        list_tem = sorted(list(set(list(split_labels['attr_tier2'][split_labels['attr_tier1']==item1]))))\n",
    "        for i_2, item2 in enumerate(list_tem):\n",
    "            tier2[item1][item2] = i_2 + 1\n",
    "        counting_dict[item1] = np.ones(len(list_tem), dtype='int')\n",
    "    for idx in range(split_labels.shape[0]):\n",
    "        tier1_idx = tier1[split_labels['attr_tier1'][idx]]\n",
    "        tier2_idx = tier2[split_labels['attr_tier1'][idx]][split_labels['attr_tier2'][idx]]\n",
    "        tier3_idx = counting_dict[split_labels['attr_tier1'][idx]][tier2_idx-1]\n",
    "        counting_dict[split_labels['attr_tier1'][idx]][tier2_idx-1] += 1\n",
    "        label_indexing_list.append([tier1_idx, tier2_idx, tier3_idx])\n",
    "        attr2indexing[split_labels['attribute_id'][idx]] = [tier1_idx, tier2_idx, tier3_idx]\n",
    "        indexing2attr[str([tier1_idx, tier2_idx, tier3_idx])] = split_labels['attribute_id'][idx]\n",
    "    labels_indexing_df = split_labels.copy()\n",
    "    labels_indexing_df['indexing'] = label_indexing_list\n",
    "    return labels_indexing_df, attr2indexing, indexing2attr\n",
    "    "
   ]
  },
  {
   "cell_type": "code",
   "execution_count": 10,
   "metadata": {},
   "outputs": [],
   "source": [
    "labels_indexing_df, attr2indexing, indexing2attr = label_indexing(split_labels)"
   ]
  },
  {
   "cell_type": "code",
   "execution_count": 11,
   "metadata": {},
   "outputs": [
    {
     "data": {
      "text/html": [
       "<div>\n",
       "<style scoped>\n",
       "    .dataframe tbody tr th:only-of-type {\n",
       "        vertical-align: middle;\n",
       "    }\n",
       "\n",
       "    .dataframe tbody tr th {\n",
       "        vertical-align: top;\n",
       "    }\n",
       "\n",
       "    .dataframe thead th {\n",
       "        text-align: right;\n",
       "    }\n",
       "</style>\n",
       "<table border=\"1\" class=\"dataframe\">\n",
       "  <thead>\n",
       "    <tr style=\"text-align: right;\">\n",
       "      <th></th>\n",
       "      <th>attribute_id</th>\n",
       "      <th>attr_tier1</th>\n",
       "      <th>attr_tier2</th>\n",
       "      <th>attr_tier3</th>\n",
       "      <th>indexing</th>\n",
       "    </tr>\n",
       "  </thead>\n",
       "  <tbody>\n",
       "    <tr>\n",
       "      <th>0</th>\n",
       "      <td>0</td>\n",
       "      <td>country</td>\n",
       "      <td>afghanistan</td>\n",
       "      <td>None</td>\n",
       "      <td>[0, 1, 1]</td>\n",
       "    </tr>\n",
       "    <tr>\n",
       "      <th>1</th>\n",
       "      <td>1</td>\n",
       "      <td>country</td>\n",
       "      <td>alamania</td>\n",
       "      <td>None</td>\n",
       "      <td>[0, 2, 1]</td>\n",
       "    </tr>\n",
       "    <tr>\n",
       "      <th>2</th>\n",
       "      <td>2</td>\n",
       "      <td>country</td>\n",
       "      <td>algeria</td>\n",
       "      <td>None</td>\n",
       "      <td>[0, 3, 1]</td>\n",
       "    </tr>\n",
       "    <tr>\n",
       "      <th>3</th>\n",
       "      <td>3</td>\n",
       "      <td>country</td>\n",
       "      <td>arabia</td>\n",
       "      <td>None</td>\n",
       "      <td>[0, 4, 1]</td>\n",
       "    </tr>\n",
       "    <tr>\n",
       "      <th>4</th>\n",
       "      <td>4</td>\n",
       "      <td>country</td>\n",
       "      <td>armenia</td>\n",
       "      <td>None</td>\n",
       "      <td>[0, 5, 1]</td>\n",
       "    </tr>\n",
       "    <tr>\n",
       "      <th>...</th>\n",
       "      <td>...</td>\n",
       "      <td>...</td>\n",
       "      <td>...</td>\n",
       "      <td>...</td>\n",
       "      <td>...</td>\n",
       "    </tr>\n",
       "    <tr>\n",
       "      <th>3469</th>\n",
       "      <td>3469</td>\n",
       "      <td>tags</td>\n",
       "      <td>writing</td>\n",
       "      <td>None</td>\n",
       "      <td>[4, 764, 1]</td>\n",
       "    </tr>\n",
       "    <tr>\n",
       "      <th>3470</th>\n",
       "      <td>3470</td>\n",
       "      <td>tags</td>\n",
       "      <td>writing implements</td>\n",
       "      <td>None</td>\n",
       "      <td>[4, 765, 1]</td>\n",
       "    </tr>\n",
       "    <tr>\n",
       "      <th>3471</th>\n",
       "      <td>3471</td>\n",
       "      <td>tags</td>\n",
       "      <td>zebras</td>\n",
       "      <td>None</td>\n",
       "      <td>[4, 766, 1]</td>\n",
       "    </tr>\n",
       "    <tr>\n",
       "      <th>3472</th>\n",
       "      <td>3472</td>\n",
       "      <td>tags</td>\n",
       "      <td>zeus</td>\n",
       "      <td>None</td>\n",
       "      <td>[4, 767, 1]</td>\n",
       "    </tr>\n",
       "    <tr>\n",
       "      <th>3473</th>\n",
       "      <td>3473</td>\n",
       "      <td>tags</td>\n",
       "      <td>zodiac</td>\n",
       "      <td>None</td>\n",
       "      <td>[4, 768, 1]</td>\n",
       "    </tr>\n",
       "  </tbody>\n",
       "</table>\n",
       "<p>3474 rows × 5 columns</p>\n",
       "</div>"
      ],
      "text/plain": [
       "      attribute_id attr_tier1          attr_tier2 attr_tier3     indexing\n",
       "0                0    country         afghanistan       None    [0, 1, 1]\n",
       "1                1    country            alamania       None    [0, 2, 1]\n",
       "2                2    country             algeria       None    [0, 3, 1]\n",
       "3                3    country              arabia       None    [0, 4, 1]\n",
       "4                4    country             armenia       None    [0, 5, 1]\n",
       "...            ...        ...                 ...        ...          ...\n",
       "3469          3469       tags             writing       None  [4, 764, 1]\n",
       "3470          3470       tags  writing implements       None  [4, 765, 1]\n",
       "3471          3471       tags              zebras       None  [4, 766, 1]\n",
       "3472          3472       tags                zeus       None  [4, 767, 1]\n",
       "3473          3473       tags              zodiac       None  [4, 768, 1]\n",
       "\n",
       "[3474 rows x 5 columns]"
      ]
     },
     "execution_count": 11,
     "metadata": {},
     "output_type": "execute_result"
    }
   ],
   "source": []
  },
  {
   "cell_type": "code",
   "execution_count": 12,
   "metadata": {},
   "outputs": [
    {
     "data": {
      "text/html": [
       "<div>\n",
       "<style scoped>\n",
       "    .dataframe tbody tr th:only-of-type {\n",
       "        vertical-align: middle;\n",
       "    }\n",
       "\n",
       "    .dataframe tbody tr th {\n",
       "        vertical-align: top;\n",
       "    }\n",
       "\n",
       "    .dataframe thead th {\n",
       "        text-align: right;\n",
       "    }\n",
       "</style>\n",
       "<table border=\"1\" class=\"dataframe\">\n",
       "  <thead>\n",
       "    <tr style=\"text-align: right;\">\n",
       "      <th></th>\n",
       "      <th>id</th>\n",
       "      <th>attribute_ids</th>\n",
       "    </tr>\n",
       "  </thead>\n",
       "  <tbody>\n",
       "    <tr>\n",
       "      <th>0</th>\n",
       "      <td>000040d66f14ced4cdd18cd95d91800f</td>\n",
       "      <td>448 2429 782</td>\n",
       "    </tr>\n",
       "    <tr>\n",
       "      <th>1</th>\n",
       "      <td>0000ef13e37ef70412166725ec034a8a</td>\n",
       "      <td>2997 3231 2730 3294 3099 2017 784</td>\n",
       "    </tr>\n",
       "    <tr>\n",
       "      <th>2</th>\n",
       "      <td>0001eeb4a06e8daa7c6951bcd124c3c7</td>\n",
       "      <td>2436 1715 23</td>\n",
       "    </tr>\n",
       "    <tr>\n",
       "      <th>3</th>\n",
       "      <td>000226398d224de78b191e6db45fd94e</td>\n",
       "      <td>2997 3433 448 782</td>\n",
       "    </tr>\n",
       "    <tr>\n",
       "      <th>4</th>\n",
       "      <td>00029c3b0171158d63b1bbf803a7d750</td>\n",
       "      <td>3465 3322 3170 1553 781</td>\n",
       "    </tr>\n",
       "    <tr>\n",
       "      <th>...</th>\n",
       "      <td>...</td>\n",
       "      <td>...</td>\n",
       "    </tr>\n",
       "    <tr>\n",
       "      <th>142114</th>\n",
       "      <td>fffd00c472c1856f5c8b7e41311e2344</td>\n",
       "      <td>125 783 96 27</td>\n",
       "    </tr>\n",
       "    <tr>\n",
       "      <th>142115</th>\n",
       "      <td>fffdb3cde6cfd3b335fc56ecf2f1eae5</td>\n",
       "      <td>2732 3170 448 1559 785</td>\n",
       "    </tr>\n",
       "    <tr>\n",
       "      <th>142116</th>\n",
       "      <td>fffdde4325edb076dccea37978c1378a</td>\n",
       "      <td>2813 233 1561 785</td>\n",
       "    </tr>\n",
       "    <tr>\n",
       "      <th>142117</th>\n",
       "      <td>fffe25dccc93a5e9e12f26d494dae26f</td>\n",
       "      <td>3095 408 1610 1470 1899 1449</td>\n",
       "    </tr>\n",
       "    <tr>\n",
       "      <th>142118</th>\n",
       "      <td>fffe66c4a175c96065551cebacb7636f</td>\n",
       "      <td>2788 3270 3170 946 783 29</td>\n",
       "    </tr>\n",
       "  </tbody>\n",
       "</table>\n",
       "<p>142119 rows × 2 columns</p>\n",
       "</div>"
      ],
      "text/plain": [
       "                                      id                      attribute_ids\n",
       "0       000040d66f14ced4cdd18cd95d91800f                       448 2429 782\n",
       "1       0000ef13e37ef70412166725ec034a8a  2997 3231 2730 3294 3099 2017 784\n",
       "2       0001eeb4a06e8daa7c6951bcd124c3c7                       2436 1715 23\n",
       "3       000226398d224de78b191e6db45fd94e                  2997 3433 448 782\n",
       "4       00029c3b0171158d63b1bbf803a7d750            3465 3322 3170 1553 781\n",
       "...                                  ...                                ...\n",
       "142114  fffd00c472c1856f5c8b7e41311e2344                      125 783 96 27\n",
       "142115  fffdb3cde6cfd3b335fc56ecf2f1eae5             2732 3170 448 1559 785\n",
       "142116  fffdde4325edb076dccea37978c1378a                  2813 233 1561 785\n",
       "142117  fffe25dccc93a5e9e12f26d494dae26f       3095 408 1610 1470 1899 1449\n",
       "142118  fffe66c4a175c96065551cebacb7636f          2788 3270 3170 946 783 29\n",
       "\n",
       "[142119 rows x 2 columns]"
      ]
     },
     "execution_count": 12,
     "metadata": {},
     "output_type": "execute_result"
    }
   ],
   "source": [
    "data"
   ]
  },
  {
   "cell_type": "code",
   "execution_count": 14,
   "metadata": {},
   "outputs": [
    {
     "data": {
      "text/plain": [
       "['2997', '3231', '2730', '3294', '3099', '2017', '784']"
      ]
     },
     "execution_count": 14,
     "metadata": {},
     "output_type": "execute_result"
    }
   ],
   "source": [
    "data['attribute_ids'][1].split()"
   ]
  },
  {
   "cell_type": "code",
   "execution_count": 18,
   "metadata": {},
   "outputs": [
    {
     "data": {
      "text/plain": [
       "[[4, 292, 1],\n",
       " [4, 526, 1],\n",
       " [4, 25, 1],\n",
       " [4, 589, 1],\n",
       " [4, 394, 1],\n",
       " [3, 1167, 1],\n",
       " [2, 4, 1]]"
      ]
     },
     "execution_count": 18,
     "metadata": {},
     "output_type": "execute_result"
    }
   ],
   "source": [
    "[attr2indexing[int(attr_id)] for attr_id in data['attribute_ids'][1].split()]"
   ]
  },
  {
   "cell_type": "code",
   "execution_count": 18,
   "metadata": {},
   "outputs": [
    {
     "name": "stdout",
     "output_type": "stream",
     "text": [
      "Catagory: country; minimum count of tagging per item: 0; maximum count of tagging per item: 3\n",
      "Catagory: culture; minimum count of tagging per item: 0; maximum count of tagging per item: 4\n",
      "Catagory: dimension; minimum count of tagging per item: 0; maximum count of tagging per item: 1\n",
      "Catagory: medium; minimum count of tagging per item: 0; maximum count of tagging per item: 17\n",
      "Catagory: tags; minimum count of tagging per item: 0; maximum count of tagging per item: 18\n"
     ]
    }
   ],
   "source": [
    "count_array = np.zeros((data.shape[0], 6), dtype='int')\n",
    "for i, attr_ids in enumerate(data['attribute_ids']):\n",
    "    cata_indexing = [labels_indexing_df['indexing'][int(attr_id)][0] \n",
    "                     for attr_id in data['attribute_ids'][i].split()]\n",
    "    for i_ in range(count_array.shape[1]):\n",
    "        count_array[i, i_] = cata_indexing.count(i_)\n",
    "for i_tier1, tier1 in enumerate(sorted(list(set(list(split_labels['attr_tier1']))))):\n",
    "    print('Catagory: %s; minimum count of tagging per item: %s; maximum count of tagging per item: %s' \n",
    "          %(tier1, np.amin(count_array, axis=0)[i_tier1], np.amax(count_array, axis=0)[i_tier1]))"
   ]
  },
  {
   "cell_type": "code",
   "execution_count": 23,
   "metadata": {},
   "outputs": [
    {
     "data": {
      "text/plain": [
       "'403 784 13 73 22'"
      ]
     },
     "execution_count": 23,
     "metadata": {},
     "output_type": "execute_result"
    }
   ],
   "source": [
    "data['attribute_ids'][count_array.argmax(axis=0)[0]]"
   ]
  },
  {
   "cell_type": "code",
   "execution_count": 24,
   "metadata": {},
   "outputs": [
    {
     "data": {
      "text/plain": [
       "attribute_id         13\n",
       "attr_tier1      country\n",
       "attr_tier2        chile\n",
       "attr_tier3         None\n",
       "Name: 13, dtype: object"
      ]
     },
     "execution_count": 24,
     "metadata": {},
     "output_type": "execute_result"
    }
   ],
   "source": [
    "split_labels.iloc[13]"
   ]
  },
  {
   "cell_type": "code",
   "execution_count": 25,
   "metadata": {},
   "outputs": [
    {
     "data": {
      "text/plain": [
       "attribute_id         73\n",
       "attr_tier1      country\n",
       "attr_tier2         peru\n",
       "attr_tier3         None\n",
       "Name: 73, dtype: object"
      ]
     },
     "execution_count": 25,
     "metadata": {},
     "output_type": "execute_result"
    }
   ],
   "source": [
    "split_labels.iloc[73]"
   ]
  },
  {
   "cell_type": "code",
   "execution_count": 26,
   "metadata": {},
   "outputs": [
    {
     "data": {
      "text/plain": [
       "attribute_id         22\n",
       "attr_tier1      country\n",
       "attr_tier2      ecuador\n",
       "attr_tier3         None\n",
       "Name: 22, dtype: object"
      ]
     },
     "execution_count": 26,
     "metadata": {},
     "output_type": "execute_result"
    }
   ],
   "source": [
    "split_labels.iloc[22]"
   ]
  },
  {
   "cell_type": "code",
   "execution_count": 27,
   "metadata": {},
   "outputs": [],
   "source": [
    "import cv2"
   ]
  },
  {
   "cell_type": "code",
   "execution_count": 33,
   "metadata": {},
   "outputs": [],
   "source": [
    "img  = cv2.imread(path+'train/'+str(data['id'][0])+'.png')"
   ]
  },
  {
   "cell_type": "code",
   "execution_count": 34,
   "metadata": {},
   "outputs": [
    {
     "data": {
      "text/plain": [
       "(300, 375, 3)"
      ]
     },
     "execution_count": 34,
     "metadata": {},
     "output_type": "execute_result"
    }
   ],
   "source": [
    "img.shape"
   ]
  },
  {
   "cell_type": "code",
   "execution_count": 14,
   "metadata": {},
   "outputs": [],
   "source": [
    "import torch.nn.functional as F\n",
    "import torch"
   ]
  },
  {
   "cell_type": "code",
   "execution_count": 15,
   "metadata": {},
   "outputs": [],
   "source": [
    "a = torch.FloatTensor([[1,1,1],[0,1,0]])\n",
    "b = torch.FloatTensor([[0.5,0.8,0.1],[0.01,0.2,0.5]])"
   ]
  },
  {
   "cell_type": "code",
   "execution_count": 20,
   "metadata": {},
   "outputs": [
    {
     "data": {
      "text/plain": [
       "tensor([[1, 1, 1],\n",
       "        [0, 1, 0]])"
      ]
     },
     "execution_count": 20,
     "metadata": {},
     "output_type": "execute_result"
    }
   ],
   "source": [
    "a.long().long()"
   ]
  },
  {
   "cell_type": "code",
   "execution_count": 57,
   "metadata": {},
   "outputs": [
    {
     "data": {
      "text/plain": [
       "tensor([1.0730, 0.7709])"
      ]
     },
     "execution_count": 57,
     "metadata": {},
     "output_type": "execute_result"
    }
   ],
   "source": [
    "torch.mean(F.binary_cross_entropy(b.view(-1,3), a, reduction='none'), dim=1)"
   ]
  },
  {
   "cell_type": "code",
   "execution_count": 30,
   "metadata": {},
   "outputs": [],
   "source": [
    "eg = dict()\n",
    "eg[1]=0\n",
    "eg[1]=1"
   ]
  },
  {
   "cell_type": "code",
   "execution_count": 31,
   "metadata": {},
   "outputs": [
    {
     "data": {
      "text/plain": [
       "{1: 1}"
      ]
     },
     "execution_count": 31,
     "metadata": {},
     "output_type": "execute_result"
    }
   ],
   "source": [
    "eg"
   ]
  },
  {
   "cell_type": "code",
   "execution_count": 32,
   "metadata": {},
   "outputs": [],
   "source": [
    "eg[0] = 0\n",
    "eg[1] = 1\n",
    "eg[2] = 2\n",
    "eg[3] = 3"
   ]
  },
  {
   "cell_type": "code",
   "execution_count": 35,
   "metadata": {},
   "outputs": [
    {
     "data": {
      "text/plain": [
       "dict_values"
      ]
     },
     "execution_count": 35,
     "metadata": {},
     "output_type": "execute_result"
    }
   ],
   "source": [
    "type(eg.values())"
   ]
  },
  {
   "cell_type": "code",
   "execution_count": 40,
   "metadata": {},
   "outputs": [],
   "source": [
    "aaa = torch.FloatTensor(np.zeros(5))\n",
    "aaa[2]=1"
   ]
  },
  {
   "cell_type": "code",
   "execution_count": 61,
   "metadata": {},
   "outputs": [],
   "source": [
    "torch.cat"
   ]
  },
  {
   "cell_type": "code",
   "execution_count": 75,
   "metadata": {},
   "outputs": [],
   "source": [
    "aaa = torch.FloatTensor([[0.1, 0.6, 0.7, 0.2], [0.3, 0.4, 0.9, 0.23]])\n",
    "aaa_ = np.zeros(np.array(aaa).shape, dtype='int')\n",
    "aaa_[:, 2:4][aaa[:, 2:4]>0.5] = 1"
   ]
  },
  {
   "cell_type": "code",
   "execution_count": 76,
   "metadata": {},
   "outputs": [
    {
     "data": {
      "text/plain": [
       "array([[0, 0, 1, 0],\n",
       "       [0, 0, 1, 0]])"
      ]
     },
     "execution_count": 76,
     "metadata": {},
     "output_type": "execute_result"
    }
   ],
   "source": [
    "aaa_"
   ]
  },
  {
   "cell_type": "code",
   "execution_count": 65,
   "metadata": {},
   "outputs": [],
   "source": [
    "bbb=[]"
   ]
  },
  {
   "cell_type": "code",
   "execution_count": 66,
   "metadata": {},
   "outputs": [],
   "source": [
    "bbb += [aaa.view(-1)]"
   ]
  },
  {
   "cell_type": "code",
   "execution_count": 70,
   "metadata": {},
   "outputs": [
    {
     "data": {
      "text/plain": [
       "array([[False, False],\n",
       "       [False, False]])"
      ]
     },
     "execution_count": 70,
     "metadata": {},
     "output_type": "execute_result"
    }
   ],
   "source": [
    "aaa_[:, 0:2]>0.5"
   ]
  },
  {
   "cell_type": "code",
   "execution_count": 78,
   "metadata": {},
   "outputs": [
    {
     "data": {
      "text/plain": [
       "4"
      ]
     },
     "execution_count": 78,
     "metadata": {},
     "output_type": "execute_result"
    }
   ],
   "source": [
    "len(([0, 100], [100, 781], [786, 2706], [2706, 3474]))"
   ]
  },
  {
   "cell_type": "code",
   "execution_count": null,
   "metadata": {},
   "outputs": [],
   "source": []
  },
  {
   "cell_type": "code",
   "execution_count": 48,
   "metadata": {},
   "outputs": [],
   "source": [
    "bbb = torch.LongTensor([0])\n",
    "bbb[0] =2"
   ]
  },
  {
   "cell_type": "code",
   "execution_count": 49,
   "metadata": {},
   "outputs": [
    {
     "data": {
      "text/plain": [
       "tensor([2])"
      ]
     },
     "execution_count": 49,
     "metadata": {},
     "output_type": "execute_result"
    }
   ],
   "source": [
    "bbb"
   ]
  },
  {
   "cell_type": "code",
   "execution_count": 50,
   "metadata": {},
   "outputs": [
    {
     "data": {
      "text/plain": [
       "(1, 1, 1, 1, 1)"
      ]
     },
     "execution_count": 50,
     "metadata": {},
     "output_type": "execute_result"
    }
   ],
   "source": [
    "def eg(a):\n",
    "    return a, a, a, a, a\n",
    "eg(1)"
   ]
  },
  {
   "cell_type": "code",
   "execution_count": 51,
   "metadata": {},
   "outputs": [],
   "source": [
    "eg_tuples = eg(1)"
   ]
  },
  {
   "cell_type": "code",
   "execution_count": 52,
   "metadata": {},
   "outputs": [
    {
     "data": {
      "text/plain": [
       "(1, 1, 1, 1, 1)"
      ]
     },
     "execution_count": 52,
     "metadata": {},
     "output_type": "execute_result"
    }
   ],
   "source": [
    "eg_tuples"
   ]
  },
  {
   "cell_type": "code",
   "execution_count": 80,
   "metadata": {},
   "outputs": [
    {
     "data": {
      "text/plain": [
       "0.7142857142857142"
      ]
     },
     "execution_count": 80,
     "metadata": {},
     "output_type": "execute_result"
    }
   ],
   "source": [
    "from sklearn.metrics import fbeta_score\n",
    "eg1 = np.array([0,1,1,0,1,0,0])\n",
    "eg2 = np.array([0,1,0,0,1,0,0])\n",
    "fbeta_score(eg1, eg2, beta=2)"
   ]
  },
  {
   "cell_type": "code",
   "execution_count": 82,
   "metadata": {},
   "outputs": [
    {
     "ename": "NameError",
     "evalue": "name 'mean' is not defined",
     "output_type": "error",
     "traceback": [
      "\u001b[0;31m---------------------------------------------------------------------------\u001b[0m",
      "\u001b[0;31mNameError\u001b[0m                                 Traceback (most recent call last)",
      "\u001b[0;32m<ipython-input-82-20e7d09aafc7>\u001b[0m in \u001b[0;36m<module>\u001b[0;34m\u001b[0m\n\u001b[1;32m      1\u001b[0m \u001b[0meg1\u001b[0m \u001b[0;34m=\u001b[0m \u001b[0mnp\u001b[0m\u001b[0;34m.\u001b[0m\u001b[0marray\u001b[0m\u001b[0;34m(\u001b[0m\u001b[0;34m[\u001b[0m\u001b[0;34m[\u001b[0m\u001b[0;36m0\u001b[0m\u001b[0;34m,\u001b[0m\u001b[0;36m1\u001b[0m\u001b[0;34m,\u001b[0m\u001b[0;36m1\u001b[0m\u001b[0;34m,\u001b[0m\u001b[0;36m0\u001b[0m\u001b[0;34m,\u001b[0m\u001b[0;36m1\u001b[0m\u001b[0;34m,\u001b[0m\u001b[0;36m0\u001b[0m\u001b[0;34m,\u001b[0m\u001b[0;36m0\u001b[0m\u001b[0;34m]\u001b[0m\u001b[0;34m,\u001b[0m\u001b[0;34m[\u001b[0m\u001b[0;36m0\u001b[0m\u001b[0;34m,\u001b[0m\u001b[0;36m1\u001b[0m\u001b[0;34m,\u001b[0m\u001b[0;36m0\u001b[0m\u001b[0;34m,\u001b[0m\u001b[0;36m0\u001b[0m\u001b[0;34m,\u001b[0m\u001b[0;36m0\u001b[0m\u001b[0;34m,\u001b[0m\u001b[0;36m1\u001b[0m\u001b[0;34m,\u001b[0m\u001b[0;36m0\u001b[0m\u001b[0;34m]\u001b[0m\u001b[0;34m]\u001b[0m\u001b[0;34m)\u001b[0m\u001b[0;34m\u001b[0m\u001b[0;34m\u001b[0m\u001b[0m\n\u001b[1;32m      2\u001b[0m \u001b[0meg2\u001b[0m \u001b[0;34m=\u001b[0m \u001b[0mnp\u001b[0m\u001b[0;34m.\u001b[0m\u001b[0marray\u001b[0m\u001b[0;34m(\u001b[0m\u001b[0;34m[\u001b[0m\u001b[0;34m[\u001b[0m\u001b[0;36m0\u001b[0m\u001b[0;34m,\u001b[0m\u001b[0;36m1\u001b[0m\u001b[0;34m,\u001b[0m\u001b[0;36m0\u001b[0m\u001b[0;34m,\u001b[0m\u001b[0;36m0\u001b[0m\u001b[0;34m,\u001b[0m\u001b[0;36m1\u001b[0m\u001b[0;34m,\u001b[0m\u001b[0;36m0\u001b[0m\u001b[0;34m,\u001b[0m\u001b[0;36m0\u001b[0m\u001b[0;34m]\u001b[0m\u001b[0;34m,\u001b[0m\u001b[0;34m[\u001b[0m\u001b[0;36m0\u001b[0m\u001b[0;34m,\u001b[0m\u001b[0;36m1\u001b[0m\u001b[0;34m,\u001b[0m\u001b[0;36m0\u001b[0m\u001b[0;34m,\u001b[0m\u001b[0;36m1\u001b[0m\u001b[0;34m,\u001b[0m\u001b[0;36m1\u001b[0m\u001b[0;34m,\u001b[0m\u001b[0;36m1\u001b[0m\u001b[0;34m,\u001b[0m\u001b[0;36m0\u001b[0m\u001b[0;34m]\u001b[0m\u001b[0;34m]\u001b[0m\u001b[0;34m)\u001b[0m\u001b[0;34m\u001b[0m\u001b[0;34m\u001b[0m\u001b[0m\n\u001b[0;32m----> 3\u001b[0;31m \u001b[0mmean\u001b[0m\u001b[0;34m(\u001b[0m\u001b[0;34m[\u001b[0m\u001b[0mfbeta_score\u001b[0m\u001b[0;34m(\u001b[0m\u001b[0meg1\u001b[0m\u001b[0;34m[\u001b[0m\u001b[0mi\u001b[0m\u001b[0;34m,\u001b[0m\u001b[0;34m:\u001b[0m\u001b[0;34m]\u001b[0m\u001b[0;34m,\u001b[0m \u001b[0meg2\u001b[0m\u001b[0;34m[\u001b[0m\u001b[0mi\u001b[0m\u001b[0;34m,\u001b[0m\u001b[0;34m:\u001b[0m\u001b[0;34m]\u001b[0m\u001b[0;34m,\u001b[0m \u001b[0mbeta\u001b[0m\u001b[0;34m=\u001b[0m\u001b[0;36m2\u001b[0m\u001b[0;34m)\u001b[0m \u001b[0;32mfor\u001b[0m \u001b[0mi\u001b[0m \u001b[0;32min\u001b[0m \u001b[0mrange\u001b[0m\u001b[0;34m(\u001b[0m\u001b[0meg1\u001b[0m\u001b[0;34m.\u001b[0m\u001b[0mshape\u001b[0m\u001b[0;34m[\u001b[0m\u001b[0;36m0\u001b[0m\u001b[0;34m]\u001b[0m\u001b[0;34m)\u001b[0m\u001b[0;34m]\u001b[0m\u001b[0;34m)\u001b[0m\u001b[0;34m\u001b[0m\u001b[0;34m\u001b[0m\u001b[0m\n\u001b[0m",
      "\u001b[0;31mNameError\u001b[0m: name 'mean' is not defined"
     ]
    }
   ],
   "source": [
    "eg1 = np.array([[0,1,1,0,1,0,0],[0,1,0,0,0,1,0]])\n",
    "eg2 = np.array([[0,1,0,0,1,0,0],[0,1,0,1,1,1,0]])\n",
    "[fbeta_score(eg1[i,:], eg2[i,:], beta=2) for i in range(eg1.shape[0])]"
   ]
  },
  {
   "cell_type": "code",
   "execution_count": null,
   "metadata": {},
   "outputs": [],
   "source": []
  }
 ],
 "metadata": {
  "kernelspec": {
   "display_name": "Python 3",
   "language": "python",
   "name": "python3"
  },
  "language_info": {
   "codemirror_mode": {
    "name": "ipython",
    "version": 3
   },
   "file_extension": ".py",
   "mimetype": "text/x-python",
   "name": "python",
   "nbconvert_exporter": "python",
   "pygments_lexer": "ipython3",
   "version": "3.7.3"
  }
 },
 "nbformat": 4,
 "nbformat_minor": 2
}
